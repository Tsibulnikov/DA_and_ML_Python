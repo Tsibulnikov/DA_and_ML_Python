{
  "nbformat": 4,
  "nbformat_minor": 0,
  "metadata": {
    "colab": {
      "name": "Добро пожаловать в Colaboratory!",
      "provenance": [],
      "collapsed_sections": [],
      "toc_visible": true,
      "include_colab_link": true
    },
    "kernelspec": {
      "display_name": "Python 3",
      "name": "python3"
    }
  },
  "cells": [
    {
      "cell_type": "markdown",
      "metadata": {
        "id": "view-in-github",
        "colab_type": "text"
      },
      "source": [
        "<a href=\"https://colab.research.google.com/github/Tsibulnikov/DA_and_ML_Python/blob/master/HW1_N8.ipynb\" target=\"_parent\"><img src=\"https://colab.research.google.com/assets/colab-badge.svg\" alt=\"Open In Colab\"/></a>"
      ]
    },
    {
      "cell_type": "markdown",
      "metadata": {
        "id": "30h51SEIfxob"
      },
      "source": [
        "## Задание 8\r\n",
        "\r\n",
        "- Найдите максимальную разницу между парой из следующих значений (*):\r\n",
        "            - Медиана суммы транзакций\r\n",
        "            - Медиана суммы транзакций по тем строкам, которые ни в одном из своих столбцов не содержат пустые значения\r\n",
        "            - Медиана суммы упорядоченного по столбцу amount датафрейма transactions, у которого удалены дублирующиеся по столбцам [mcc_code, tr_type] строки, причём при удалении соответстующих дублей остаются только последние из дублирующихся строк (keep='last')\r\n",
        "            \r\n",
        "            \r\n",
        "Выведите ответ в виде вещественного числа, округлённого до двух знаков после запятой, отделив дробную часть точкой в формате \"123.45\"\r\n",
        "\r\n",
        "\r\n",
        "Пояснения:\r\n",
        "    \r\n",
        "(*) Для вычисления максимальной разницы между значениями списка можно использовать функцию np.ptp\r\n",
        "\r\n",
        "(**) Если в результате получились значения [1,3,5], то макимальная разница между ними 4 == 5-1."
      ]
    },
    {
      "cell_type": "code",
      "metadata": {
        "id": "kNPTOQZ9aUXN"
      },
      "source": [
        "import pandas as pd"
      ],
      "execution_count": 3,
      "outputs": []
    },
    {
      "cell_type": "code",
      "metadata": {
        "colab": {
          "base_uri": "https://localhost:8080/",
          "height": 419
        },
        "id": "EL1GSJspaWAK",
        "outputId": "e54dc75f-889f-4dff-b008-106c8b1ddf94"
      },
      "source": [
        "df = pd.read_csv(filepath_or_buffer='/transactions.csv', sep=',')\r\n",
        "df"
      ],
      "execution_count": 7,
      "outputs": [
        {
          "output_type": "execute_result",
          "data": {
            "text/html": [
              "<div>\n",
              "<style scoped>\n",
              "    .dataframe tbody tr th:only-of-type {\n",
              "        vertical-align: middle;\n",
              "    }\n",
              "\n",
              "    .dataframe tbody tr th {\n",
              "        vertical-align: top;\n",
              "    }\n",
              "\n",
              "    .dataframe thead th {\n",
              "        text-align: right;\n",
              "    }\n",
              "</style>\n",
              "<table border=\"1\" class=\"dataframe\">\n",
              "  <thead>\n",
              "    <tr style=\"text-align: right;\">\n",
              "      <th></th>\n",
              "      <th>customer_id</th>\n",
              "      <th>tr_datetime</th>\n",
              "      <th>mcc_code</th>\n",
              "      <th>tr_type</th>\n",
              "      <th>amount</th>\n",
              "      <th>term_id</th>\n",
              "    </tr>\n",
              "  </thead>\n",
              "  <tbody>\n",
              "    <tr>\n",
              "      <th>0</th>\n",
              "      <td>39026145</td>\n",
              "      <td>0 10:23:26</td>\n",
              "      <td>4814</td>\n",
              "      <td>1030</td>\n",
              "      <td>-2245.92</td>\n",
              "      <td>NaN</td>\n",
              "    </tr>\n",
              "    <tr>\n",
              "      <th>1</th>\n",
              "      <td>39026145</td>\n",
              "      <td>1 10:19:29</td>\n",
              "      <td>6011</td>\n",
              "      <td>7010</td>\n",
              "      <td>56147.89</td>\n",
              "      <td>NaN</td>\n",
              "    </tr>\n",
              "    <tr>\n",
              "      <th>2</th>\n",
              "      <td>39026145</td>\n",
              "      <td>1 10:20:56</td>\n",
              "      <td>4829</td>\n",
              "      <td>2330</td>\n",
              "      <td>-56147.89</td>\n",
              "      <td>NaN</td>\n",
              "    </tr>\n",
              "    <tr>\n",
              "      <th>3</th>\n",
              "      <td>39026145</td>\n",
              "      <td>1 10:39:54</td>\n",
              "      <td>5499</td>\n",
              "      <td>1010</td>\n",
              "      <td>-1392.47</td>\n",
              "      <td>NaN</td>\n",
              "    </tr>\n",
              "    <tr>\n",
              "      <th>4</th>\n",
              "      <td>39026145</td>\n",
              "      <td>2 15:33:42</td>\n",
              "      <td>5499</td>\n",
              "      <td>1010</td>\n",
              "      <td>-920.83</td>\n",
              "      <td>NaN</td>\n",
              "    </tr>\n",
              "    <tr>\n",
              "      <th>...</th>\n",
              "      <td>...</td>\n",
              "      <td>...</td>\n",
              "      <td>...</td>\n",
              "      <td>...</td>\n",
              "      <td>...</td>\n",
              "      <td>...</td>\n",
              "    </tr>\n",
              "    <tr>\n",
              "      <th>318665</th>\n",
              "      <td>22771802</td>\n",
              "      <td>312 16:28:18</td>\n",
              "      <td>5499</td>\n",
              "      <td>1010</td>\n",
              "      <td>-2223.46</td>\n",
              "      <td>382372</td>\n",
              "    </tr>\n",
              "    <tr>\n",
              "      <th>318666</th>\n",
              "      <td>22771802</td>\n",
              "      <td>312 16:31:05</td>\n",
              "      <td>5499</td>\n",
              "      <td>1010</td>\n",
              "      <td>-1459.85</td>\n",
              "      <td>702147</td>\n",
              "    </tr>\n",
              "    <tr>\n",
              "      <th>318667</th>\n",
              "      <td>22771802</td>\n",
              "      <td>312 18:00:00</td>\n",
              "      <td>5411</td>\n",
              "      <td>1010</td>\n",
              "      <td>-11431.71</td>\n",
              "      <td>224356</td>\n",
              "    </tr>\n",
              "    <tr>\n",
              "      <th>318668</th>\n",
              "      <td>22771802</td>\n",
              "      <td>313 16:19:16</td>\n",
              "      <td>5499</td>\n",
              "      <td>1010</td>\n",
              "      <td>-2369.44</td>\n",
              "      <td>382372</td>\n",
              "    </tr>\n",
              "    <tr>\n",
              "      <th>318669</th>\n",
              "      <td>22771802</td>\n",
              "      <td>313 16:21:35</td>\n",
              "      <td>5499</td>\n",
              "      <td>101</td>\n",
              "      <td>NaN</td>\n",
              "      <td>NaN</td>\n",
              "    </tr>\n",
              "  </tbody>\n",
              "</table>\n",
              "<p>318670 rows × 6 columns</p>\n",
              "</div>"
            ],
            "text/plain": [
              "        customer_id   tr_datetime  mcc_code  tr_type    amount term_id\n",
              "0          39026145    0 10:23:26      4814     1030  -2245.92     NaN\n",
              "1          39026145    1 10:19:29      6011     7010  56147.89     NaN\n",
              "2          39026145    1 10:20:56      4829     2330 -56147.89     NaN\n",
              "3          39026145    1 10:39:54      5499     1010  -1392.47     NaN\n",
              "4          39026145    2 15:33:42      5499     1010   -920.83     NaN\n",
              "...             ...           ...       ...      ...       ...     ...\n",
              "318665     22771802  312 16:28:18      5499     1010  -2223.46  382372\n",
              "318666     22771802  312 16:31:05      5499     1010  -1459.85  702147\n",
              "318667     22771802  312 18:00:00      5411     1010 -11431.71  224356\n",
              "318668     22771802  313 16:19:16      5499     1010  -2369.44  382372\n",
              "318669     22771802  313 16:21:35      5499      101       NaN     NaN\n",
              "\n",
              "[318670 rows x 6 columns]"
            ]
          },
          "metadata": {
            "tags": []
          },
          "execution_count": 7
        }
      ]
    },
    {
      "cell_type": "code",
      "metadata": {
        "colab": {
          "base_uri": "https://localhost:8080/",
          "height": 450
        },
        "id": "b8o-lvIbaegG",
        "outputId": "149330fc-ce3d-49b5-87e4-ae11ca2fdd42"
      },
      "source": [
        "df_sum = df.groupby(['customer_id']).agg(sum)\r\n",
        "df_sum"
      ],
      "execution_count": 9,
      "outputs": [
        {
          "output_type": "execute_result",
          "data": {
            "text/html": [
              "<div>\n",
              "<style scoped>\n",
              "    .dataframe tbody tr th:only-of-type {\n",
              "        vertical-align: middle;\n",
              "    }\n",
              "\n",
              "    .dataframe tbody tr th {\n",
              "        vertical-align: top;\n",
              "    }\n",
              "\n",
              "    .dataframe thead th {\n",
              "        text-align: right;\n",
              "    }\n",
              "</style>\n",
              "<table border=\"1\" class=\"dataframe\">\n",
              "  <thead>\n",
              "    <tr style=\"text-align: right;\">\n",
              "      <th></th>\n",
              "      <th>mcc_code</th>\n",
              "      <th>tr_type</th>\n",
              "      <th>amount</th>\n",
              "    </tr>\n",
              "    <tr>\n",
              "      <th>customer_id</th>\n",
              "      <th></th>\n",
              "      <th></th>\n",
              "      <th></th>\n",
              "    </tr>\n",
              "  </thead>\n",
              "  <tbody>\n",
              "    <tr>\n",
              "      <th>115617</th>\n",
              "      <td>549584</td>\n",
              "      <td>146260</td>\n",
              "      <td>-10978011.60</td>\n",
              "    </tr>\n",
              "    <tr>\n",
              "      <th>186730</th>\n",
              "      <td>1257218</td>\n",
              "      <td>633277</td>\n",
              "      <td>-2579583.44</td>\n",
              "    </tr>\n",
              "    <tr>\n",
              "      <th>302489</th>\n",
              "      <td>7699359</td>\n",
              "      <td>1997355</td>\n",
              "      <td>-8234657.18</td>\n",
              "    </tr>\n",
              "    <tr>\n",
              "      <th>600423</th>\n",
              "      <td>1419165</td>\n",
              "      <td>387220</td>\n",
              "      <td>-4089070.22</td>\n",
              "    </tr>\n",
              "    <tr>\n",
              "      <th>611788</th>\n",
              "      <td>712883</td>\n",
              "      <td>327450</td>\n",
              "      <td>-3442301.18</td>\n",
              "    </tr>\n",
              "    <tr>\n",
              "      <th>...</th>\n",
              "      <td>...</td>\n",
              "      <td>...</td>\n",
              "      <td>...</td>\n",
              "    </tr>\n",
              "    <tr>\n",
              "      <th>99540926</th>\n",
              "      <td>789859</td>\n",
              "      <td>681020</td>\n",
              "      <td>1038264.42</td>\n",
              "    </tr>\n",
              "    <tr>\n",
              "      <th>99699527</th>\n",
              "      <td>5122580</td>\n",
              "      <td>1375300</td>\n",
              "      <td>-17050839.08</td>\n",
              "    </tr>\n",
              "    <tr>\n",
              "      <th>99729098</th>\n",
              "      <td>1674177</td>\n",
              "      <td>542380</td>\n",
              "      <td>-5710223.01</td>\n",
              "    </tr>\n",
              "    <tr>\n",
              "      <th>99815733</th>\n",
              "      <td>358250</td>\n",
              "      <td>178175</td>\n",
              "      <td>-10945128.70</td>\n",
              "    </tr>\n",
              "    <tr>\n",
              "      <th>99953525</th>\n",
              "      <td>978465</td>\n",
              "      <td>378250</td>\n",
              "      <td>-4914623.05</td>\n",
              "    </tr>\n",
              "  </tbody>\n",
              "</table>\n",
              "<p>713 rows × 3 columns</p>\n",
              "</div>"
            ],
            "text/plain": [
              "             mcc_code  tr_type       amount\n",
              "customer_id                                \n",
              "115617         549584   146260 -10978011.60\n",
              "186730        1257218   633277  -2579583.44\n",
              "302489        7699359  1997355  -8234657.18\n",
              "600423        1419165   387220  -4089070.22\n",
              "611788         712883   327450  -3442301.18\n",
              "...               ...      ...          ...\n",
              "99540926       789859   681020   1038264.42\n",
              "99699527      5122580  1375300 -17050839.08\n",
              "99729098      1674177   542380  -5710223.01\n",
              "99815733       358250   178175 -10945128.70\n",
              "99953525       978465   378250  -4914623.05\n",
              "\n",
              "[713 rows x 3 columns]"
            ]
          },
          "metadata": {
            "tags": []
          },
          "execution_count": 9
        }
      ]
    },
    {
      "cell_type": "code",
      "metadata": {
        "colab": {
          "base_uri": "https://localhost:8080/"
        },
        "id": "Ga2OBHp6bF6p",
        "outputId": "a1e7f021-8f88-4fbc-e69e-dbc575629285"
      },
      "source": [
        "ans1 = df_sum.amount.median()\r\n",
        "ans1"
      ],
      "execution_count": 12,
      "outputs": [
        {
          "output_type": "execute_result",
          "data": {
            "text/plain": [
              "-8864863.579999998"
            ]
          },
          "metadata": {
            "tags": []
          },
          "execution_count": 12
        }
      ]
    },
    {
      "cell_type": "code",
      "metadata": {
        "colab": {
          "base_uri": "https://localhost:8080/",
          "height": 419
        },
        "id": "7VdUQvCUbQB0",
        "outputId": "ac44b4cf-9dcf-415e-f66e-2452ee6513ae"
      },
      "source": [
        "df_drop = df.dropna()\r\n",
        "df_drop"
      ],
      "execution_count": 15,
      "outputs": [
        {
          "output_type": "execute_result",
          "data": {
            "text/html": [
              "<div>\n",
              "<style scoped>\n",
              "    .dataframe tbody tr th:only-of-type {\n",
              "        vertical-align: middle;\n",
              "    }\n",
              "\n",
              "    .dataframe tbody tr th {\n",
              "        vertical-align: top;\n",
              "    }\n",
              "\n",
              "    .dataframe thead th {\n",
              "        text-align: right;\n",
              "    }\n",
              "</style>\n",
              "<table border=\"1\" class=\"dataframe\">\n",
              "  <thead>\n",
              "    <tr style=\"text-align: right;\">\n",
              "      <th></th>\n",
              "      <th>customer_id</th>\n",
              "      <th>tr_datetime</th>\n",
              "      <th>mcc_code</th>\n",
              "      <th>tr_type</th>\n",
              "      <th>amount</th>\n",
              "      <th>term_id</th>\n",
              "    </tr>\n",
              "  </thead>\n",
              "  <tbody>\n",
              "    <tr>\n",
              "      <th>377</th>\n",
              "      <td>39026145</td>\n",
              "      <td>208 14:18:12</td>\n",
              "      <td>5499</td>\n",
              "      <td>1010</td>\n",
              "      <td>-7254.31</td>\n",
              "      <td>453799</td>\n",
              "    </tr>\n",
              "    <tr>\n",
              "      <th>378</th>\n",
              "      <td>39026145</td>\n",
              "      <td>208 14:24:23</td>\n",
              "      <td>5499</td>\n",
              "      <td>1010</td>\n",
              "      <td>-1392.47</td>\n",
              "      <td>453306</td>\n",
              "    </tr>\n",
              "    <tr>\n",
              "      <th>379</th>\n",
              "      <td>39026145</td>\n",
              "      <td>209 15:09:16</td>\n",
              "      <td>5499</td>\n",
              "      <td>1010</td>\n",
              "      <td>-2852.31</td>\n",
              "      <td>453306</td>\n",
              "    </tr>\n",
              "    <tr>\n",
              "      <th>380</th>\n",
              "      <td>39026145</td>\n",
              "      <td>209 15:13:51</td>\n",
              "      <td>5499</td>\n",
              "      <td>1010</td>\n",
              "      <td>-853.45</td>\n",
              "      <td>058435</td>\n",
              "    </tr>\n",
              "    <tr>\n",
              "      <th>381</th>\n",
              "      <td>39026145</td>\n",
              "      <td>209 15:13:17</td>\n",
              "      <td>5499</td>\n",
              "      <td>1010</td>\n",
              "      <td>-1410.44</td>\n",
              "      <td>058435</td>\n",
              "    </tr>\n",
              "    <tr>\n",
              "      <th>...</th>\n",
              "      <td>...</td>\n",
              "      <td>...</td>\n",
              "      <td>...</td>\n",
              "      <td>...</td>\n",
              "      <td>...</td>\n",
              "      <td>...</td>\n",
              "    </tr>\n",
              "    <tr>\n",
              "      <th>318664</th>\n",
              "      <td>22771802</td>\n",
              "      <td>312 16:26:30</td>\n",
              "      <td>5499</td>\n",
              "      <td>1010</td>\n",
              "      <td>-1931.49</td>\n",
              "      <td>702148</td>\n",
              "    </tr>\n",
              "    <tr>\n",
              "      <th>318665</th>\n",
              "      <td>22771802</td>\n",
              "      <td>312 16:28:18</td>\n",
              "      <td>5499</td>\n",
              "      <td>1010</td>\n",
              "      <td>-2223.46</td>\n",
              "      <td>382372</td>\n",
              "    </tr>\n",
              "    <tr>\n",
              "      <th>318666</th>\n",
              "      <td>22771802</td>\n",
              "      <td>312 16:31:05</td>\n",
              "      <td>5499</td>\n",
              "      <td>1010</td>\n",
              "      <td>-1459.85</td>\n",
              "      <td>702147</td>\n",
              "    </tr>\n",
              "    <tr>\n",
              "      <th>318667</th>\n",
              "      <td>22771802</td>\n",
              "      <td>312 18:00:00</td>\n",
              "      <td>5411</td>\n",
              "      <td>1010</td>\n",
              "      <td>-11431.71</td>\n",
              "      <td>224356</td>\n",
              "    </tr>\n",
              "    <tr>\n",
              "      <th>318668</th>\n",
              "      <td>22771802</td>\n",
              "      <td>313 16:19:16</td>\n",
              "      <td>5499</td>\n",
              "      <td>1010</td>\n",
              "      <td>-2369.44</td>\n",
              "      <td>382372</td>\n",
              "    </tr>\n",
              "  </tbody>\n",
              "</table>\n",
              "<p>184514 rows × 6 columns</p>\n",
              "</div>"
            ],
            "text/plain": [
              "        customer_id   tr_datetime  mcc_code  tr_type    amount term_id\n",
              "377        39026145  208 14:18:12      5499     1010  -7254.31  453799\n",
              "378        39026145  208 14:24:23      5499     1010  -1392.47  453306\n",
              "379        39026145  209 15:09:16      5499     1010  -2852.31  453306\n",
              "380        39026145  209 15:13:51      5499     1010   -853.45  058435\n",
              "381        39026145  209 15:13:17      5499     1010  -1410.44  058435\n",
              "...             ...           ...       ...      ...       ...     ...\n",
              "318664     22771802  312 16:26:30      5499     1010  -1931.49  702148\n",
              "318665     22771802  312 16:28:18      5499     1010  -2223.46  382372\n",
              "318666     22771802  312 16:31:05      5499     1010  -1459.85  702147\n",
              "318667     22771802  312 18:00:00      5411     1010 -11431.71  224356\n",
              "318668     22771802  313 16:19:16      5499     1010  -2369.44  382372\n",
              "\n",
              "[184514 rows x 6 columns]"
            ]
          },
          "metadata": {
            "tags": []
          },
          "execution_count": 15
        }
      ]
    },
    {
      "cell_type": "code",
      "metadata": {
        "colab": {
          "base_uri": "https://localhost:8080/"
        },
        "id": "_eS_FdJGbacB",
        "outputId": "1bd39dcf-f7da-4592-ea64-ec816724a74c"
      },
      "source": [
        "ans2 = df_drop.groupby('customer_id').agg(sum).amount.median()\r\n",
        "ans2"
      ],
      "execution_count": 17,
      "outputs": [
        {
          "output_type": "execute_result",
          "data": {
            "text/plain": [
              "-4594165.869999998"
            ]
          },
          "metadata": {
            "tags": []
          },
          "execution_count": 17
        }
      ]
    },
    {
      "cell_type": "code",
      "metadata": {
        "colab": {
          "base_uri": "https://localhost:8080/",
          "height": 419
        },
        "id": "P-uKxh-EcCgF",
        "outputId": "543a42a9-99f1-4fac-fef2-a87d1fc5c9b1"
      },
      "source": [
        "df_drop_dupl = df.drop_duplicates(subset=['mcc_code', 'tr_type'], keep='last')\r\n",
        "df_drop_dupl"
      ],
      "execution_count": 18,
      "outputs": [
        {
          "output_type": "execute_result",
          "data": {
            "text/html": [
              "<div>\n",
              "<style scoped>\n",
              "    .dataframe tbody tr th:only-of-type {\n",
              "        vertical-align: middle;\n",
              "    }\n",
              "\n",
              "    .dataframe tbody tr th {\n",
              "        vertical-align: top;\n",
              "    }\n",
              "\n",
              "    .dataframe thead th {\n",
              "        text-align: right;\n",
              "    }\n",
              "</style>\n",
              "<table border=\"1\" class=\"dataframe\">\n",
              "  <thead>\n",
              "    <tr style=\"text-align: right;\">\n",
              "      <th></th>\n",
              "      <th>customer_id</th>\n",
              "      <th>tr_datetime</th>\n",
              "      <th>mcc_code</th>\n",
              "      <th>tr_type</th>\n",
              "      <th>amount</th>\n",
              "      <th>term_id</th>\n",
              "    </tr>\n",
              "  </thead>\n",
              "  <tbody>\n",
              "    <tr>\n",
              "      <th>313</th>\n",
              "      <td>39026145</td>\n",
              "      <td>178 00:00:00</td>\n",
              "      <td>5331</td>\n",
              "      <td>6110</td>\n",
              "      <td>449.18</td>\n",
              "      <td>NaN</td>\n",
              "    </tr>\n",
              "    <tr>\n",
              "      <th>3727</th>\n",
              "      <td>1585299</td>\n",
              "      <td>433 08:00:27</td>\n",
              "      <td>5532</td>\n",
              "      <td>1100</td>\n",
              "      <td>-655807.41</td>\n",
              "      <td>759823</td>\n",
              "    </tr>\n",
              "    <tr>\n",
              "      <th>6190</th>\n",
              "      <td>3765322</td>\n",
              "      <td>118 10:48:43</td>\n",
              "      <td>5949</td>\n",
              "      <td>1100</td>\n",
              "      <td>-437279.80</td>\n",
              "      <td>NaN</td>\n",
              "    </tr>\n",
              "    <tr>\n",
              "      <th>21915</th>\n",
              "      <td>19513764</td>\n",
              "      <td>397 00:00:00</td>\n",
              "      <td>7932</td>\n",
              "      <td>1110</td>\n",
              "      <td>-11229.58</td>\n",
              "      <td>29198777</td>\n",
              "    </tr>\n",
              "    <tr>\n",
              "      <th>27461</th>\n",
              "      <td>26847016</td>\n",
              "      <td>122 00:00:00</td>\n",
              "      <td>5946</td>\n",
              "      <td>1100</td>\n",
              "      <td>-3270.50</td>\n",
              "      <td>NaN</td>\n",
              "    </tr>\n",
              "    <tr>\n",
              "      <th>...</th>\n",
              "      <td>...</td>\n",
              "      <td>...</td>\n",
              "      <td>...</td>\n",
              "      <td>...</td>\n",
              "      <td>...</td>\n",
              "      <td>...</td>\n",
              "    </tr>\n",
              "    <tr>\n",
              "      <th>318659</th>\n",
              "      <td>22771802</td>\n",
              "      <td>311 14:16:37</td>\n",
              "      <td>5411</td>\n",
              "      <td>1110</td>\n",
              "      <td>-5807.94</td>\n",
              "      <td>22400580</td>\n",
              "    </tr>\n",
              "    <tr>\n",
              "      <th>318662</th>\n",
              "      <td>22771802</td>\n",
              "      <td>312 00:00:00</td>\n",
              "      <td>7399</td>\n",
              "      <td>1200</td>\n",
              "      <td>-6266.11</td>\n",
              "      <td>NaN</td>\n",
              "    </tr>\n",
              "    <tr>\n",
              "      <th>318667</th>\n",
              "      <td>22771802</td>\n",
              "      <td>312 18:00:00</td>\n",
              "      <td>5411</td>\n",
              "      <td>1010</td>\n",
              "      <td>-11431.71</td>\n",
              "      <td>224356</td>\n",
              "    </tr>\n",
              "    <tr>\n",
              "      <th>318668</th>\n",
              "      <td>22771802</td>\n",
              "      <td>313 16:19:16</td>\n",
              "      <td>5499</td>\n",
              "      <td>1010</td>\n",
              "      <td>-2369.44</td>\n",
              "      <td>382372</td>\n",
              "    </tr>\n",
              "    <tr>\n",
              "      <th>318669</th>\n",
              "      <td>22771802</td>\n",
              "      <td>313 16:21:35</td>\n",
              "      <td>5499</td>\n",
              "      <td>101</td>\n",
              "      <td>NaN</td>\n",
              "      <td>NaN</td>\n",
              "    </tr>\n",
              "  </tbody>\n",
              "</table>\n",
              "<p>703 rows × 6 columns</p>\n",
              "</div>"
            ],
            "text/plain": [
              "        customer_id   tr_datetime  mcc_code  tr_type     amount   term_id\n",
              "313        39026145  178 00:00:00      5331     6110     449.18       NaN\n",
              "3727        1585299  433 08:00:27      5532     1100 -655807.41    759823\n",
              "6190        3765322  118 10:48:43      5949     1100 -437279.80       NaN\n",
              "21915      19513764  397 00:00:00      7932     1110  -11229.58  29198777\n",
              "27461      26847016  122 00:00:00      5946     1100   -3270.50       NaN\n",
              "...             ...           ...       ...      ...        ...       ...\n",
              "318659     22771802  311 14:16:37      5411     1110   -5807.94  22400580\n",
              "318662     22771802  312 00:00:00      7399     1200   -6266.11       NaN\n",
              "318667     22771802  312 18:00:00      5411     1010  -11431.71    224356\n",
              "318668     22771802  313 16:19:16      5499     1010   -2369.44    382372\n",
              "318669     22771802  313 16:21:35      5499      101        NaN       NaN\n",
              "\n",
              "[703 rows x 6 columns]"
            ]
          },
          "metadata": {
            "tags": []
          },
          "execution_count": 18
        }
      ]
    },
    {
      "cell_type": "code",
      "metadata": {
        "colab": {
          "base_uri": "https://localhost:8080/"
        },
        "id": "nGFxhHYZdIKN",
        "outputId": "774a0bb5-40b9-48d2-ca46-1ad4697771bf"
      },
      "source": [
        "ans3 = df_drop_dupl.groupby(['customer_id']).agg(sum).amount.median()\r\n",
        "ans3"
      ],
      "execution_count": 20,
      "outputs": [
        {
          "output_type": "execute_result",
          "data": {
            "text/plain": [
              "-37057.604999999996"
            ]
          },
          "metadata": {
            "tags": []
          },
          "execution_count": 20
        }
      ]
    },
    {
      "cell_type": "code",
      "metadata": {
        "colab": {
          "base_uri": "https://localhost:8080/"
        },
        "id": "J4ZPjYxAdSUh",
        "outputId": "74ff82e9-c6f9-4b9e-daac-1971341546aa"
      },
      "source": [
        "import numpy as np\r\n",
        "np.ptp(np.array([ans1,ans2,ans3]))"
      ],
      "execution_count": 24,
      "outputs": [
        {
          "output_type": "execute_result",
          "data": {
            "text/plain": [
              "8827805.974999998"
            ]
          },
          "metadata": {
            "tags": []
          },
          "execution_count": 24
        }
      ]
    },
    {
      "cell_type": "code",
      "metadata": {
        "id": "NqFvVSBMdkER"
      },
      "source": [
        "#Ответ 8827805.97"
      ],
      "execution_count": null,
      "outputs": []
    }
  ]
}